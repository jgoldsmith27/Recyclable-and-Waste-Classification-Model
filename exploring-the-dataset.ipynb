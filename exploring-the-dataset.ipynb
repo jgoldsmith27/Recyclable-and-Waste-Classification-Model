{
 "cells": [
  {
   "cell_type": "markdown",
   "id": "5718381f",
   "metadata": {},
   "source": [
    "# Machine Learning A, Final Project\n",
    "\n",
    "Faculty: Lucy McCarren.\n",
    "Students: Adeildo Vieira, Charlene Chen, Jacob Goldsmith."
   ]
  },
  {
   "cell_type": "markdown",
   "id": "71c625e3",
   "metadata": {},
   "source": [
    "# Dataset Information\n",
    "\n",
    "Dataset: Recyclable and Household Waste Classification\n",
    "Version: 1.0\n",
    "Date: 5/18/2024\n",
    "\n",
    "This dataset contains images of various recyclable materials, general waste, and household items for the purpose of waste classification and recycling research.\n",
    "\n",
    "### Our focus:\n",
    "\n",
    "We will be looking into this dataset to create an image classification problem to categorize images into different waste types, to help developing an automated waste sorting algorithm.\n",
    "\n",
    "Target Variable: Waste category label (Differentiate between recyclable items and general household waste)."
   ]
  },
  {
   "cell_type": "markdown",
   "id": "d82614b2",
   "metadata": {},
   "source": [
    "# Overview of the Dataset\n",
    "\n",
    "- General: Has 15,000 .PNG images, with an 100% consistency of 256x256 px.\n",
    "    - Folders: 30 distinct categories, each with 500 images, also 100% consistency.\n",
    "        - Subfolders:\n",
    "            - '/default' has studio quality images, with clear views.\n",
    "            - '/real_world': images taken in trash bins or untidy spaces.\n",
    "\n",
    "# Our analysis\n",
    "\n",
    "Based on the provided, we then have a great quality dataset, very organized, and consistent in all aspects. It also comes with an excellent balance of content for both testing (default) and training (real_world)."
   ]
  }
 ],
 "metadata": {
  "language_info": {
   "name": "python"
  }
 },
 "nbformat": 4,
 "nbformat_minor": 5
}
