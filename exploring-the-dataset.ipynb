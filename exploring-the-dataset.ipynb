{
 "cells": [
  {
   "cell_type": "markdown",
   "id": "5718381f",
   "metadata": {},
   "source": [
    "# Machine Learning A, Final Project\n",
    "\n",
    "Faculty: Lucy McCarren.\n",
    "Students: Adeildo Vieira, Charlene Chen, Jacob Goldsmith."
   ]
  },
  {
   "cell_type": "markdown",
   "id": "71c625e3",
   "metadata": {},
   "source": [
    "# 1. Dataset Information\n",
    "\n",
    "Dataset: Recyclable and Household Waste Classification\n",
    "Version: 1.0\n",
    "Date: 5/18/2024\n",
    "\n",
    "This dataset contains images of various recyclable materials, general waste, and household items for the purpose of waste classification and recycling research.\n",
    "\n",
    "### 1.1. Our focus:\n",
    "\n",
    "We will be looking into this dataset to create an image classification problem to categorize images into different waste types, to help developing an automated waste sorting algorithm.\n",
    "\n",
    "Target Variable: Waste category label (Differentiate between recyclable items and general household waste)."
   ]
  },
  {
   "cell_type": "markdown",
   "id": "d82614b2",
   "metadata": {},
   "source": [
    "# 2. Overview of the Dataset\n",
    "\n",
    "- General: Has 15,000 .PNG images, with an 100% consistency of 256x256 px.\n",
    "    - Folders: 30 distinct categories, each with 500 images, also 100% consistency.\n",
    "        - Subfolders:\n",
    "            - '/default' has studio quality images, with clear views.\n",
    "            - '/real_world': images taken in trash bins or untidy spaces.\n",
    "\n",
    "# 2.1. Our analysis\n",
    "\n",
    "Based on the provided, we then have a great quality dataset, very organized, and consistent in all aspects. It also comes with an excellent balance of content for both testing (default) and training (real_world)."
   ]
  },
  {
   "cell_type": "code",
   "execution_count": 10,
   "id": "121b78fa",
   "metadata": {},
   "outputs": [
    {
     "name": "stdout",
     "output_type": "stream",
     "text": [
      "We have 15000 images in the dataset.\n"
     ]
    }
   ],
   "source": [
    "# 2. Overview of the Dataset (Coding part)\n",
    "\n",
    "# *---- Setup: ----* #\n",
    "import os\n",
    "data_path = 'images'\n",
    "# *----------------* #\n",
    "\n",
    "# Since each folder represents a *unique* waste category, then we can list it as follows:\n",
    "categories = [folder for folder in os.listdir(data_path) if os.path.isdir(os.path.join(data_path, folder))]\n",
    "\n",
    "total_images = 0\n",
    "\n",
    "for category in categories:\n",
    "    category_path = os.path.join(data_path, category)\n",
    "\n",
    "    # Working with separate subfolders:\n",
    "    default_folder = os.path.join(category_path, 'default') # Most likely to be our training.\n",
    "    real_world_folder = os.path.join(category_path, 'real_world') # Most likely to be our testing.\n",
    "\n",
    "    # Counting how many images in each subfolder\n",
    "    default_images = [img for img in os.listdir(default_folder) if img.endswith('.png')]\n",
    "    real_world_images = [img for img in os.listdir(real_world_folder) if img.endswith('.png')]\n",
    "    default_count = len(default_images)\n",
    "    real_world_count = len(real_world_images)\n",
    "    \n",
    "    # Calculate the total images for this category\n",
    "    category_total = default_count + real_world_count\n",
    "    total_images += category_total\n",
    "    \n",
    "    # This print statement shows that we have exactly 250 for each subfolder, just in case that checking it is needed:\n",
    "    # print(f\"{category} - We have {count_of_default_images} default images and {count_of_real_world_images} real world images. /n Total: {category_total}\")\n",
    "\n",
    "print(f\"We have {total_images} images in the dataset.\")"
   ]
  }
 ],
 "metadata": {
  "kernelspec": {
   "display_name": ".venv",
   "language": "python",
   "name": "python3"
  },
  "language_info": {
   "codemirror_mode": {
    "name": "ipython",
    "version": 3
   },
   "file_extension": ".py",
   "mimetype": "text/x-python",
   "name": "python",
   "nbconvert_exporter": "python",
   "pygments_lexer": "ipython3",
   "version": "3.12.3"
  }
 },
 "nbformat": 4,
 "nbformat_minor": 5
}
